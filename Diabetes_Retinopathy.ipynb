{
 "cells": [
  {
   "cell_type": "code",
   "execution_count": 53,
   "metadata": {},
   "outputs": [
    {
     "name": "stdout",
     "output_type": "stream",
     "text": [
      "         Contrast  Haemorrhage     Exudates      Labels    Bloodvessel\n",
      "count  400.000000     400.0000   400.000000  400.000000     400.000000\n",
      "mean    29.662500    1361.8125   509.572500    3.475635  169122.507500\n",
      "std     13.666034    1185.0830   422.922248    1.851438   94715.928305\n",
      "min      3.000000      51.0000    21.000000    0.728600   36700.000000\n",
      "25%     18.000000     699.2500   275.000000    2.112650   92100.000000\n",
      "50%     27.000000    1025.0000   402.500000    3.021200  137500.000000\n",
      "75%     40.250000    1618.2500   605.000000    4.763800  227750.000000\n",
      "max     52.000000   12203.0000  3701.000000   10.950600  500001.000000\n"
     ]
    }
   ],
   "source": [
    "import pandas as pd\n",
    "import numpy as np\n",
    "from sklearn.model_selection import train_test_split\n",
    "from sklearn.preprocessing import StandardScaler\n",
    "from sklearn.svm import SVC\n",
    "from sklearn import metrics\n",
    "from sklearn import feature_selection\n",
    "from sklearn.feature_selection import VarianceThreshold\n",
    "import matplotlib.pyplot as plt\n",
    "from sklearn import preprocessing\n",
    "from sklearn.datasets.samples_generator import make_blobs\n",
    "from matplotlib.colors import ListedColormap\n",
    "import pylab\n",
    "from tqdm import tqdm\n",
    "import warnings\n",
    "warnings.filterwarnings(\"ignore\")\n",
    "\n",
    "dataset=pd.read_csv(\"D:/datasets/retinopathy.csv\")\n",
    "print(dataset.describe())\n",
    "\n",
    "le=preprocessing.LabelEncoder()\n",
    "dataset[\"Class\"]=le.fit_transform(dataset[\"Class\"])\n",
    "X = dataset.iloc[:, 0:5]\n",
    "y = dataset.iloc[:, 5]"
   ]
  },
  {
   "cell_type": "code",
   "execution_count": 54,
   "metadata": {},
   "outputs": [
    {
     "name": "stdout",
     "output_type": "stream",
     "text": [
      "   Contrast  Haemorrhage  Exudates  Labels  Bloodvessel\n",
      "0        41          322       126  8.3252       452600\n",
      "Contrast fvalue: 67.20061046812745 p: 3.818251915040771e-35\n",
      "Haemorrhage fvalue: 15.475372397891872 p: 1.5426689847545213e-09\n",
      "Exudates fvalue: 11.468260882818928 p: 3.1697105328779656e-07\n",
      "Labels fvalue: 57.22323873245292 p: 9.486291062391919e-31\n",
      "Bloodvessel fvalue: 53.01664871835814 p: 7.921353030067902e-29\n"
     ]
    }
   ],
   "source": [
    "print(X.head(1))\n",
    "fvalues,probs=feature_selection.f_classif(X,y)\n",
    "## gives a statistical test\n",
    "for cols,f,p in zip(X.columns,fvalues,probs):\n",
    "    print(cols,\"fvalue:\",f,\"p:\",p)"
   ]
  },
  {
   "cell_type": "code",
   "execution_count": 55,
   "metadata": {},
   "outputs": [],
   "source": [
    "X_1, X_test, y_1, y_test = train_test_split(X, y, random_state=0, test_size=0.20)\n",
    "X_train, X_cv, y_train, y_cv = train_test_split(X_1, y_1, random_state=0, test_size=0.20)"
   ]
  },
  {
   "cell_type": "code",
   "execution_count": 56,
   "metadata": {},
   "outputs": [],
   "source": [
    "sc_X = StandardScaler()\n",
    "X_train = sc_X.fit_transform(X_train)\n",
    "X_cv = sc_X.transform(X_cv)\n",
    "X_test = sc_X.transform(X_test)"
   ]
  },
  {
   "cell_type": "code",
   "execution_count": 57,
   "metadata": {},
   "outputs": [
    {
     "name": "stderr",
     "output_type": "stream",
     "text": [
      "100%|██████████| 11/11 [00:00<00:00, 80.92it/s]\n"
     ]
    }
   ],
   "source": [
    "y_train_accuracy=[]\n",
    "y_cv_accuracy=[]\n",
    "alp=[0.01,0.1,1,2,3,4,5,6,7,9,10]#values for C(regularization variable)\n",
    "for i in tqdm(alp):\n",
    "    svm=SVC(C=i,kernel='rbf',class_weight=\"balanced\")\n",
    "    svm.fit(X_train,y_train)\n",
    "    y_train_pred=svm.predict(X_train)\n",
    "    y_cv_pred=svm.predict(X_cv)\n",
    "    y_train_accuracy.append(metrics.accuracy_score(y_train,y_train_pred))\n",
    "    y_cv_accuracy.append(metrics.accuracy_score(y_cv,y_cv_pred))"
   ]
  },
  {
   "cell_type": "code",
   "execution_count": 58,
   "metadata": {},
   "outputs": [
    {
     "data": {
      "image/png": "[encoded data removed]",
      "text/plain": [
       "<Figure size 432x288 with 1 Axes>"
      ]
     },
     "metadata": {
      "needs_background": "light"
     },
     "output_type": "display_data"
    }
   ],
   "source": [
    "plt.plot(alp,y_train_accuracy)\n",
    "plt.plot(alp,y_cv_accuracy)\n",
    "plt.scatter(alp,y_train_accuracy)\n",
    "plt.scatter(alp,y_cv_accuracy)\n",
    "plt.ylabel('accuracy')\n",
    "plt.xlabel('Values of C')\n",
    "plt.grid()\n",
    "plt.show()"
   ]
  },
  {
   "cell_type": "code",
   "execution_count": 59,
   "metadata": {},
   "outputs": [
    {
     "name": "stdout",
     "output_type": "stream",
     "text": [
      "[0 3 2 3 2 1 2 2 0 1 3 0 0 3 3 1 1 0 0 2 2 2 0 1 2 1 3 3 1 1 0 2 1 2 3 3 3\n",
      " 0 2 1 0 1 3 0 1 3 1 2 1 2 1 0 1 0 1 1 1 3 3 3 1 1 2 3 0 1 0 2 0 1 3 2 3 3\n",
      " 2 3 1 1 1 1]\n"
     ]
    }
   ],
   "source": [
    "best_c=5\n",
    "svm=SVC(C=best_c,kernel='rbf',class_weight=\"balanced\")\n",
    "svm.fit(X_train,y_train)\n",
    "y_test_pred_SVM=svm.predict(X_test)\n",
    "y_train_pred_SVM=svm.predict(X_train)\n",
    "print(y_test_pred_SVM)"
   ]
  },
  {
   "cell_type": "code",
   "execution_count": 60,
   "metadata": {},
   "outputs": [
    {
     "name": "stdout",
     "output_type": "stream",
     "text": [
      "[[12  2  4  0]\n",
      " [ 0 13  1  3]\n",
      " [ 2  7  9  1]\n",
      " [ 2  5  3 16]]\n",
      "[0.70703125, 0.625]\n",
      "[0.75       0.48148148 0.52941176 0.8       ]\n"
     ]
    }
   ],
   "source": [
    "cm = metrics.confusion_matrix(y_test, y_test_pred_SVM)\n",
    "print (cm)\n",
    "acc_sc_SVM_train=metrics.accuracy_score(y_train, y_train_pred_SVM)\n",
    "acc_sc_SVM_test=metrics.accuracy_score(y_test, y_test_pred_SVM)\n",
    "SVM_acc=[acc_sc_SVM_train,acc_sc_SVM_test]\n",
    "print(SVM_acc)\n",
    "SVM_prec=metrics.precision_score(y_test, y_test_pred_SVM,average=None)\n",
    "print(SVM_prec)"
   ]
  },
  {
   "cell_type": "code",
   "execution_count": 61,
   "metadata": {},
   "outputs": [
    {
     "name": "stderr",
     "output_type": "stream",
     "text": [
      "100%|██████████| 11/11 [00:00<00:00, 28.62it/s]\n"
     ]
    }
   ],
   "source": [
    "from sklearn.linear_model import LogisticRegression\n",
    "y_train_accuracy=[]\n",
    "y_cv_accuracy=[]\n",
    "alp=[0.01,0.1,1,2,3,4,5,6,7,9,10]#values for C(regularization variable)\n",
    "for i in tqdm(alp):\n",
    "    lr=LogisticRegression(C=i)\n",
    "    lr.fit(X_train,y_train)\n",
    "    y_train_pred=lr.predict(X_train)\n",
    "    y_cv_pred=lr.predict(X_cv)\n",
    "    y_train_accuracy.append(metrics.accuracy_score(y_train,y_train_pred))\n",
    "    y_cv_accuracy.append(metrics.accuracy_score(y_cv,y_cv_pred))\n"
   ]
  },
  {
   "cell_type": "code",
   "execution_count": 62,
   "metadata": {},
   "outputs": [
    {
     "data": {
      "image/png": "[encoded data removed]",
      "text/plain": [
       "<Figure size 432x288 with 1 Axes>"
      ]
     },
     "metadata": {
      "needs_background": "light"
     },
     "output_type": "display_data"
    }
   ],
   "source": [
    "plt.plot(alp,y_train_accuracy)\n",
    "plt.plot(alp,y_cv_accuracy)\n",
    "plt.scatter(alp,y_train_accuracy)\n",
    "plt.scatter(alp,y_cv_accuracy)\n",
    "plt.ylabel('accuracy')\n",
    "plt.xlabel('Values of C')\n",
    "plt.grid()\n",
    "plt.show()"
   ]
  },
  {
   "cell_type": "code",
   "execution_count": 63,
   "metadata": {},
   "outputs": [
    {
     "name": "stdout",
     "output_type": "stream",
     "text": [
      "[2 3 1 3 2 1 2 0 0 1 3 2 0 3 3 1 1 0 2 0 2 2 2 1 0 1 3 3 3 2 2 3 1 2 3 3 3\n",
      " 0 2 1 0 1 3 2 1 3 1 2 2 2 2 2 1 2 1 1 3 3 1 3 1 2 3 3 2 2 0 3 3 1 3 1 3 3\n",
      " 2 3 1 1 0 1]\n"
     ]
    }
   ],
   "source": [
    "best_c=5\n",
    "lr=LogisticRegression(C=best_c)\n",
    "lr.fit(X_train,y_train)\n",
    "y_test_pred_lr=lr.predict(X_test)\n",
    "y_train_pred_lr=lr.predict(X_train)\n",
    "print(y_test_pred_lr)"
   ]
  },
  {
   "cell_type": "code",
   "execution_count": 64,
   "metadata": {},
   "outputs": [
    {
     "name": "stdout",
     "output_type": "stream",
     "text": [
      "[[ 7  1 10  0]\n",
      " [ 1 11  1  4]\n",
      " [ 2  6  9  2]\n",
      " [ 0  4  3 19]]\n",
      "[0.59765625, 0.575]\n",
      "[0.7        0.5        0.39130435 0.76      ]\n"
     ]
    }
   ],
   "source": [
    "cm = metrics.confusion_matrix(y_test, y_test_pred_lr)\n",
    "print (cm)\n",
    "acc_sc_LR_train=metrics.accuracy_score(y_train, y_train_pred_lr)\n",
    "acc_sc_LR_test=metrics.accuracy_score(y_test, y_test_pred_lr)\n",
    "LR_acc=[acc_sc_LR_train,acc_sc_LR_test]\n",
    "print(LR_acc)\n",
    "LR_prec=metrics.precision_score(y_test, y_test_pred_lr,average=None)\n",
    "print(LR_prec)"
   ]
  },
  {
   "cell_type": "code",
   "execution_count": 65,
   "metadata": {},
   "outputs": [
    {
     "name": "stdout",
     "output_type": "stream",
     "text": [
      "2 : [0.81640625, 0.53125]\n",
      "3 : [0.765625, 0.53125]\n",
      "4 : [0.7421875, 0.46875]\n",
      "5 : [0.73828125, 0.515625]\n",
      "6 : [0.71484375, 0.484375]\n",
      "7 : [0.703125, 0.546875]\n",
      "8 : [0.703125, 0.546875]\n",
      "9 : [0.703125, 0.5625]\n",
      "10 : [0.68359375, 0.515625]\n",
      "11 : [0.6875, 0.5625]\n",
      "12 : [0.67578125, 0.5625]\n",
      "13 : [0.65625, 0.53125]\n",
      "14 : [0.640625, 0.53125]\n",
      "15 : [0.63671875, 0.515625]\n",
      "16 : [0.64453125, 0.515625]\n",
      "17 : [0.6328125, 0.515625]\n",
      "18 : [0.625, 0.5]\n",
      "19 : [0.6328125, 0.515625]\n",
      "20 : [0.62109375, 0.515625]\n",
      "21 : [0.625, 0.5]\n",
      "22 : [0.6328125, 0.515625]\n",
      "23 : [0.62890625, 0.484375]\n",
      "24 : [0.62109375, 0.484375]\n",
      "25 : [0.62890625, 0.5]\n",
      "26 : [0.6171875, 0.46875]\n",
      "27 : [0.62890625, 0.5]\n",
      "28 : [0.6171875, 0.484375]\n",
      "29 : [0.609375, 0.5]\n",
      "30 : [0.62109375, 0.5]\n",
      "31 : [0.6171875, 0.515625]\n",
      "32 : [0.6171875, 0.515625]\n",
      "33 : [0.61328125, 0.515625]\n",
      "34 : [0.60546875, 0.515625]\n",
      "35 : [0.61328125, 0.515625]\n",
      "36 : [0.60546875, 0.53125]\n",
      "37 : [0.609375, 0.515625]\n",
      "38 : [0.59765625, 0.53125]\n",
      "39 : [0.609375, 0.515625]\n"
     ]
    }
   ],
   "source": [
    "from sklearn.neighbors import KNeighborsClassifier\n",
    "K = [] \n",
    "training = [] \n",
    "cv = []\n",
    "scores = {} \n",
    "for k in range(2,40): \n",
    "    clf = KNeighborsClassifier(n_neighbors = k) \n",
    "    clf.fit(X_train, y_train)   \n",
    "    training_score = clf.score(X_train, y_train) \n",
    "    cv_score=clf.score(X_cv,y_cv)\n",
    "    K.append(k)   \n",
    "    training.append(training_score) \n",
    "    cv.append(cv_score)\n",
    "    scores[k] = [training_score, cv_score]\n",
    "for keys, values in scores.items(): \n",
    "    print(keys, ':', values) "
   ]
  },
  {
   "cell_type": "code",
   "execution_count": 66,
   "metadata": {},
   "outputs": [
    {
     "data": {
      "image/png": "[encoded data removed]",
      "text/plain": [
       "<Figure size 432x288 with 1 Axes>"
      ]
     },
     "metadata": {
      "needs_background": "light"
     },
     "output_type": "display_data"
    }
   ],
   "source": [
    "plt.plot(K,training)\n",
    "plt.plot(K,cv)\n",
    "plt.scatter(K,training)\n",
    "plt.scatter(K,cv)\n",
    "plt.ylabel('accuracy')\n",
    "plt.xlabel('Values of K')\n",
    "plt.grid()\n",
    "plt.show()"
   ]
  },
  {
   "cell_type": "code",
   "execution_count": 67,
   "metadata": {},
   "outputs": [
    {
     "name": "stdout",
     "output_type": "stream",
     "text": [
      "[0 3 2 3 2 1 2 0 0 2 3 0 0 1 3 3 1 0 0 0 0 2 0 1 0 1 2 3 1 2 0 2 1 2 3 1 3\n",
      " 0 2 1 0 1 3 0 1 3 2 2 2 1 1 0 1 0 1 1 1 3 3 3 1 1 3 3 0 1 0 3 0 3 3 2 3 3\n",
      " 2 3 1 1 1 3]\n"
     ]
    }
   ],
   "source": [
    "best_k=36\n",
    "clf = KNeighborsClassifier(n_neighbors = best_k) \n",
    "clf.fit(X_train, y_train)\n",
    "y_train_pred_KNN=clf.predict(X_train)\n",
    "y_test_pred_KNN=clf.predict(X_test)\n",
    "print(y_test_pred_KNN)"
   ]
  },
  {
   "cell_type": "code",
   "execution_count": 68,
   "metadata": {},
   "outputs": [
    {
     "name": "stdout",
     "output_type": "stream",
     "text": [
      "[[14  0  4  0]\n",
      " [ 0 12  1  4]\n",
      " [ 4  7  7  1]\n",
      " [ 2  4  3 17]]\n",
      "[0.60546875, 0.625]\n",
      "[0.7        0.52173913 0.46666667 0.77272727]\n"
     ]
    }
   ],
   "source": [
    "cm = metrics.confusion_matrix(y_test, y_test_pred_KNN)\n",
    "print (cm)\n",
    "acc_sc_KNN_train=metrics.accuracy_score(y_train, y_train_pred_KNN)\n",
    "acc_sc_KNN_test=metrics.accuracy_score(y_test, y_test_pred_KNN)\n",
    "KNN_acc=[acc_sc_KNN_train,acc_sc_KNN_test]\n",
    "print(KNN_acc)\n",
    "KNN_prec=metrics.precision_score(y_test, y_test_pred_KNN,average=None)\n",
    "print(KNN_prec)"
   ]
  },
  {
   "cell_type": "code",
   "execution_count": 69,
   "metadata": {},
   "outputs": [
    {
     "data": {
      "text/plain": [
       "GaussianNB(priors=None, var_smoothing=1e-09)"
      ]
     },
     "execution_count": 69,
     "metadata": {},
     "output_type": "execute_result"
    }
   ],
   "source": [
    "from sklearn import naive_bayes\n",
    "gnb=naive_bayes.GaussianNB()\n",
    "gnb.fit(X_train,y_train)"
   ]
  },
  {
   "cell_type": "code",
   "execution_count": 70,
   "metadata": {},
   "outputs": [
    {
     "name": "stdout",
     "output_type": "stream",
     "text": [
      "[0 1 1 3 2 3 2 2 2 3 1 0 2 3 3 1 1 2 0 0 0 1 2 1 0 1 3 3 2 2 2 2 1 3 1 1 3\n",
      " 0 2 1 0 1 3 0 3 1 1 1 2 2 1 2 3 2 2 1 3 3 1 3 1 1 3 3 0 1 0 3 2 1 3 1 3 3\n",
      " 2 3 1 1 1 1]\n"
     ]
    }
   ],
   "source": [
    "y_train_pred_NB=gnb.predict(X_train)\n",
    "y_test_pred_NB=gnb.predict(X_test)\n",
    "print(y_test_pred_NB)"
   ]
  },
  {
   "cell_type": "code",
   "execution_count": 71,
   "metadata": {},
   "outputs": [
    {
     "name": "stdout",
     "output_type": "stream",
     "text": [
      "[[14  0  4  0]\n",
      " [ 0 12  1  4]\n",
      " [ 4  7  7  1]\n",
      " [ 2  4  3 17]]\n",
      "[0.51171875, 0.4875]\n",
      "[0.63636364 0.46428571 0.21052632 0.68181818]\n"
     ]
    }
   ],
   "source": [
    "cm = metrics.confusion_matrix(y_test, y_test_pred_KNN)\n",
    "print (cm)\n",
    "acc_sc_NB_train=metrics.accuracy_score(y_train, y_train_pred_NB)\n",
    "acc_sc_NB_test=metrics.accuracy_score(y_test, y_test_pred_NB)\n",
    "NB_acc=[acc_sc_NB_train,acc_sc_NB_test]\n",
    "print(NB_acc)\n",
    "NB_prec=metrics.precision_score(y_test, y_test_pred_NB,average=None)\n",
    "print(NB_prec)"
   ]
  },
  {
   "cell_type": "code",
   "execution_count": 72,
   "metadata": {},
   "outputs": [
    {
     "name": "stdout",
     "output_type": "stream",
     "text": [
      "[[0.70703125, 0.625], [0.59765625, 0.575], [0.60546875, 0.625], [0.51171875, 0.4875]]\n",
      "[0.75       0.48148148 0.52941176 0.8       ]\n",
      "[0.7        0.5        0.39130435 0.76      ]\n",
      "[0.7        0.52173913 0.46666667 0.77272727]\n",
      "[0.63636364 0.46428571 0.21052632 0.68181818]\n",
      "[0.8, 0.76, 0.7727272727272727, 0.6818181818181818]\n"
     ]
    }
   ],
   "source": [
    "acc_sc_models=[SVM_acc,LR_acc,KNN_acc,NB_acc]\n",
    "print(acc_sc_models)\n",
    "prec_sc_models=[SVM_prec[-1],LR_prec[-1],KNN_prec[-1],NB_prec[-1]]\n",
    "list=[SVM_prec,LR_prec,KNN_prec,NB_prec]\n",
    "for i in list:\n",
    "    print(i)\n",
    "print(prec_sc_models)"
   ]
  },
  {
   "cell_type": "code",
   "execution_count": 75,
   "metadata": {},
   "outputs": [
    {
     "name": "stdout",
     "output_type": "stream",
     "text": [
      "[2 2 2 2 2]\n"
     ]
    }
   ],
   "source": [
    "print(svm.predict([[41,322,126,8.3252,452600],\n",
    "[21,2401,1138,8.3014,358500],\n",
    "[52,496,177,7.2574,352100],\n",
    "[52,558,219,5.6431,341300],\n",
    "[52,565,259,3.8462,342200]]))"
   ]
  },
  {
   "cell_type": "code",
   "execution_count": null,
   "metadata": {},
   "outputs": [],
   "source": []
  }
 ],
 "metadata": {
  "kernelspec": {
   "display_name": "Python 3",
   "language": "python",
   "name": "python3"
  },
  "language_info": {
   "codemirror_mode": {
    "name": "ipython",
    "version": 3
   },
   "file_extension": ".py",
   "mimetype": "text/x-python",
   "name": "python",
   "nbconvert_exporter": "python",
   "pygments_lexer": "ipython3",
   "version": "3.7.6"
  }
 },
 "nbformat": 4,
 "nbformat_minor": 2
}
